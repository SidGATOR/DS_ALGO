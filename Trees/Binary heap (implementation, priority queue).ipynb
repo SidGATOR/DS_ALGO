{
 "cells": [
  {
   "cell_type": "code",
   "execution_count": 13,
   "metadata": {
    "collapsed": true
   },
   "outputs": [],
   "source": [
    "class BinaryHeap(object):\n",
    "    \n",
    "    def __init__(self):\n",
    "        self.HeapList = [0]\n",
    "        self.CurrentSize = 0\n",
    "    def percUp(self,i):\n",
    "        while i // 2 > 0:\n",
    "            if self.HeapList[i] < self.HeapList[i//2]:\n",
    "                tmp = self.HeapList[i//2]\n",
    "                self.HeapList[i//2] = self.HeapList[i]\n",
    "                self.HeapList[i] = tmp\n",
    "            i = i // 2\n",
    "    \n",
    "    def insertHeap(self,k):\n",
    "        self.HeapList.append(k)\n",
    "        self.CurrentSize += 1\n",
    "        self.percUp(self.CurrentSize)\n",
    "        \n",
    "    \n",
    "    def minChild(self,i):\n",
    "        if 2 * i + 1 > self.CurrentSize:\n",
    "            return 2*i\n",
    "        else:\n",
    "            if self.HeapList[2*i] < self.HeapList[2*i+1]:\n",
    "                return 2*i\n",
    "            else:\n",
    "                return 2*i+1\n",
    "    \n",
    "    def percDown(self,i):\n",
    "        while (i * 2) <= self.CurrentSize:\n",
    "            mc = self.minChild(i)\n",
    "            if self.HeapList[i] > self.HeapList[mc]:\n",
    "                tmp = self.HeapList[i]\n",
    "                self.HeapList[i] = self.HeapList[mc]\n",
    "                self.HeapList[mc] = tmp\n",
    "            i = mc\n",
    "    \n",
    "    def delMin(self):\n",
    "        retrieve_min = self.HeapList[1]\n",
    "        self.HeapList[1] = self.HeapList[self.CurrentSize]\n",
    "        self.CurrentSize -= 1\n",
    "        self.HeapList.pop()\n",
    "        percDown(1)\n",
    "        return retrieve_min\n",
    "    \n",
    "    def BuildHeap(self,alist):\n",
    "        i = len(alist) // 2\n",
    "        self.CurrentSize = len(alist)\n",
    "        self.HeapList = [0] + alist[:]\n",
    "        while(i>0):\n",
    "            self.percDown(i)\n",
    "            i -= 1\n",
    "    \n",
    "        "
   ]
  },
  {
   "cell_type": "code",
   "execution_count": 14,
   "metadata": {
    "collapsed": true
   },
   "outputs": [],
   "source": [
    "t = BinaryHeap()"
   ]
  },
  {
   "cell_type": "code",
   "execution_count": 15,
   "metadata": {
    "collapsed": true
   },
   "outputs": [],
   "source": [
    "alist = [2,3,4,5,6,7,8,9]"
   ]
  },
  {
   "cell_type": "code",
   "execution_count": 16,
   "metadata": {},
   "outputs": [],
   "source": [
    "t.BuildHeap(alist)"
   ]
  },
  {
   "cell_type": "code",
   "execution_count": 17,
   "metadata": {},
   "outputs": [
    {
     "name": "stdout",
     "output_type": "stream",
     "text": [
      "[0, 2, 3, 4, 5, 6, 7, 8, 9]\n"
     ]
    }
   ],
   "source": [
    "print(t.HeapList)"
   ]
  },
  {
   "cell_type": "code",
   "execution_count": null,
   "metadata": {
    "collapsed": true
   },
   "outputs": [],
   "source": []
  }
 ],
 "metadata": {
  "kernelspec": {
   "display_name": "Python 3",
   "language": "python",
   "name": "python3"
  },
  "language_info": {
   "codemirror_mode": {
    "name": "ipython",
    "version": 3
   },
   "file_extension": ".py",
   "mimetype": "text/x-python",
   "name": "python",
   "nbconvert_exporter": "python",
   "pygments_lexer": "ipython3",
   "version": "3.5.3"
  }
 },
 "nbformat": 4,
 "nbformat_minor": 2
}
